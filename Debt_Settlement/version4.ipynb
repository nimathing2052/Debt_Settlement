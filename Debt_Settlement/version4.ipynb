{
 "cells": [
  {
   "cell_type": "markdown",
   "id": "4be93055-3e2b-4ec4-9f1c-67e91b90a8ba",
   "metadata": {},
   "source": [
    "# Ignore this bit"
   ]
  },
  {
   "cell_type": "markdown",
   "id": "c812f5fa-8bd7-4618-91dd-c731cbee1c96",
   "metadata": {},
   "source": [
    "This bit of code was originally made when I was using csv files to emulate using a database just to try out the algorithm. The code below overrites the exisitng \"site.db\"."
   ]
  },
  {
   "cell_type": "code",
   "execution_count": 1,
   "id": "d6b4d6b8-55dc-423f-91b4-bda3178249bc",
   "metadata": {},
   "outputs": [],
   "source": [
    "#import pandas as pd\n",
    "#import sqlite3\n",
    "\n",
    "# Read CSV files\n",
    "#debt_item = pd.read_csv('falsedata.csv')\n",
    "#user = pd.read_csv('falseusers.csv')\n",
    "\n",
    "# Establish a connection to the database\n",
    "#conn = sqlite3.connect('site.db')\n",
    "\n",
    "# Write dataframes to SQLite tables\n",
    "#debt_item.to_sql('debt_item', conn, if_exists='replace', index=False)\n",
    "#user.to_sql('user', conn, if_exists='replace', index=False)\n",
    "\n",
    "# Commit changes and close connection\n",
    "#conn.commit()\n",
    "#conn.close()"
   ]
  },
  {
   "cell_type": "markdown",
   "id": "d5163744-9615-47d7-af6b-8f1914f83e8e",
   "metadata": {},
   "source": [
    "# Pre-Initialization; Read user table"
   ]
  },
  {
   "cell_type": "markdown",
   "id": "7c7bd2a4-5ee8-475f-a2b4-e9ffdc41e4e2",
   "metadata": {},
   "source": [
    "This code loads the `user` table from our database and initializes it into a variable called `users`. \n",
    "This bit of code is not necessary for the algorithm itself, except for the print statement inside of it. \n",
    "\n",
    "Essentially it was made so that it can say \"Alice\" instead of \"1\" in the output. "
   ]
  },
  {
   "cell_type": "code",
   "execution_count": 3,
   "id": "9e0e6b4f-bacd-4440-af31-9e90b6f5d098",
   "metadata": {},
   "outputs": [],
   "source": [
    "import pandas as pd\n",
    "import sqlite3\n",
    "\n",
    "# Import the debt_item table into a DataFrame named transactions\n",
    "def import_debt_item(database_file):\n",
    "    conn = sqlite3.connect(database_file)\n",
    "    transactions = pd.read_sql_query(\"SELECT * FROM user\", conn)\n",
    "    conn.close()\n",
    "    return transactions\n",
    "\n",
    "# Example usage:\n",
    "users = import_debt_item('site.db')"
   ]
  },
  {
   "cell_type": "code",
   "execution_count": 4,
   "id": "b4cb8988-748b-4c5a-8588-36a169092b44",
   "metadata": {},
   "outputs": [
    {
     "data": {
      "text/html": [
       "<div>\n",
       "<style scoped>\n",
       "    .dataframe tbody tr th:only-of-type {\n",
       "        vertical-align: middle;\n",
       "    }\n",
       "\n",
       "    .dataframe tbody tr th {\n",
       "        vertical-align: top;\n",
       "    }\n",
       "\n",
       "    .dataframe thead th {\n",
       "        text-align: right;\n",
       "    }\n",
       "</style>\n",
       "<table border=\"1\" class=\"dataframe\">\n",
       "  <thead>\n",
       "    <tr style=\"text-align: right;\">\n",
       "      <th></th>\n",
       "      <th>id</th>\n",
       "      <th>email</th>\n",
       "      <th>first_name</th>\n",
       "      <th>last_name</th>\n",
       "      <th>password_hash</th>\n",
       "    </tr>\n",
       "  </thead>\n",
       "  <tbody>\n",
       "    <tr>\n",
       "      <th>0</th>\n",
       "      <td>0</td>\n",
       "      <td>alice@hs</td>\n",
       "      <td>Alice</td>\n",
       "      <td>Alpha</td>\n",
       "      <td>kdj;alkjdsa</td>\n",
       "    </tr>\n",
       "    <tr>\n",
       "      <th>1</th>\n",
       "      <td>1</td>\n",
       "      <td>bob@hs</td>\n",
       "      <td>Bob</td>\n",
       "      <td>Beta</td>\n",
       "      <td>akdjaslk;jda</td>\n",
       "    </tr>\n",
       "    <tr>\n",
       "      <th>2</th>\n",
       "      <td>2</td>\n",
       "      <td>ch@hs</td>\n",
       "      <td>Charlie</td>\n",
       "      <td>Omega</td>\n",
       "      <td>alldjaslk;j;</td>\n",
       "    </tr>\n",
       "  </tbody>\n",
       "</table>\n",
       "</div>"
      ],
      "text/plain": [
       "   id     email first_name last_name password_hash\n",
       "0   0  alice@hs     Alice      Alpha   kdj;alkjdsa\n",
       "1   1    bob@hs       Bob       Beta  akdjaslk;jda\n",
       "2   2     ch@hs   Charlie      Omega  alldjaslk;j;"
      ]
     },
     "execution_count": 4,
     "metadata": {},
     "output_type": "execute_result"
    }
   ],
   "source": [
    "users.head()"
   ]
  },
  {
   "cell_type": "markdown",
   "id": "15cf38fd-c7a6-4d35-aa74-ccbd44d0dbf6",
   "metadata": {},
   "source": [
    "Every column in the debt_table in the database in this github is exactly as it was in the origianl."
   ]
  },
  {
   "cell_type": "markdown",
   "id": "613d1c80-7be7-4484-a153-37f5e503b48e",
   "metadata": {},
   "source": [
    "# Hellgorithm"
   ]
  },
  {
   "cell_type": "markdown",
   "id": "e7d48d60-6f5c-44ec-8bc3-5aab06ebcef8",
   "metadata": {},
   "source": [
    "In the original code, the algoritm took in an adjacency matrix. The code here is pristine to the original found in: https://github.com/ATMackay/splitwise\n",
    "\n",
    "The only change is the print statement which returns something useful. You can change the print statement if you want it to do something else. \n",
    "It's under: \n",
    "\n",
    "```python \n",
    "    def solveTransaction(self):\n",
    "```\n",
    "\n",
    "If you want to work on it further to directly take in the values from a database instead of the two-step process of converting to a matrix, be my guest. "
   ]
  },
  {
   "cell_type": "code",
   "execution_count": 6,
   "id": "3dc36def-5edf-4798-9eea-d47b45d087bc",
   "metadata": {},
   "outputs": [],
   "source": [
    "import heapq\n",
    "\n",
    "# Comparator that will be used to make priority_queue\n",
    "# containing pair of integers maxHeap Comparison is based\n",
    "# on second entry in the pair which represents cash\n",
    "# credit/debit\n",
    "class AscCmp:\n",
    "    def __call__(self, p1, p2):\n",
    "        return p1[1] < p2[1]\n",
    "\n",
    "# Comparator that will be used to make priority_queue\n",
    "# containing pair of integers minHeap Comparison is based\n",
    "# on second entry in the pair which represents cash\n",
    "# credit/debit\n",
    "class DscCmp:\n",
    "    def __call__(self, p1, p2):\n",
    "        return p1[1] > p2[1]\n",
    "\n",
    "class Solution:\n",
    "    def __init__(self):\n",
    "        self.minQ = []\n",
    "        self.maxQ = []\n",
    "\n",
    "    # This function will fill in minQ and maxQ in such a\n",
    "    # way that maxQ will have only positive value. minQ\n",
    "    # will have only negative value amount is taken as\n",
    "    # input. amount[i] => cash credit/debit to/from person\n",
    "    # i amount[i] == 0 will be ignored as no credit/debit\n",
    "    # is left.\n",
    "    def constructMinMaxQ(self, amount):\n",
    "        for i in range(len(amount)):\n",
    "            if amount[i] == 0:\n",
    "                continue\n",
    "            if amount[i] > 0:\n",
    "                heapq.heappush(self.maxQ, (i, amount[i]))\n",
    "            else:\n",
    "                heapq.heappush(self.minQ, (i, amount[i]))\n",
    "\n",
    "    # This function will iterate over minQ and maxQ until\n",
    "    # empty. It will fetch max credit and min debit. If sum\n",
    "    # of both is not equal to zero, then push remaining\n",
    "    # credit or debit back to the required queue. At the\n",
    "    # end of the loop, print result\n",
    "    def solveTransaction(self):\n",
    "        while self.minQ and self.maxQ:\n",
    "            maxCreditEntry = heapq.heappop(self.maxQ)\n",
    "            maxDebitEntry = heapq.heappop(self.minQ)\n",
    "\n",
    "            transaction_val = maxCreditEntry[1] + maxDebitEntry[1]\n",
    "\n",
    "            debtor = maxDebitEntry[0]\n",
    "            creditor = maxCreditEntry[0]\n",
    "            owed_amount = 0\n",
    "\n",
    "            if transaction_val == 0:\n",
    "                owed_amount = maxCreditEntry[1]\n",
    "            elif transaction_val < 0:\n",
    "                owed_amount = maxCreditEntry[1]\n",
    "                heapq.heappush(self.minQ, (maxDebitEntry[0], transaction_val))\n",
    "            else:\n",
    "                owed_amount = -maxDebitEntry[1]\n",
    "                heapq.heappush(self.maxQ, (maxCreditEntry[0], transaction_val))\n",
    "\n",
    "            print(f\"{users[users['id'] == debtor]['first_name'].values[0]} pays {owed_amount} euros to {users[users['id'] == creditor]['first_name'].values[0]}\")\n",
    "            \n",
    "            \n",
    "\n",
    "    def minCashFlow(self, graph):\n",
    "        n = len(graph)\n",
    "\n",
    "        # Calculate the cash to be credited/debited to/from\n",
    "        # each person and store in vector amount\n",
    "        amount = [0] * n\n",
    "        for i in range(n):\n",
    "            for j in range(n):\n",
    "                diff = graph[j][i] - graph[i][j]\n",
    "                amount[i] += diff\n",
    "\n",
    "        # Fill in both queues minQ and maxQ using amount\n",
    "        # vector\n",
    "        self.constructMinMaxQ(amount)\n",
    "\n",
    "        # Solve the transaction using minQ, maxQ and amount\n",
    "        # vector\n",
    "        self.solveTransaction()\n",
    "\n"
   ]
  },
  {
   "cell_type": "markdown",
   "id": "7ad81024-86cf-4a86-bce1-96eeace78623",
   "metadata": {},
   "source": [
    "# Read Database (debts table) and Convert to Matrix\n",
    "Made by chat-GPT. Feel free to simplify it if you can find a way.\n",
    "* Takes in a database file\n",
    "* Retrieves appropriate information (i.e. user_ids of the giver and receiver, and the amount)\n",
    "* Constructs and returns the adjacency matrix for the algorithm above\n"
   ]
  },
  {
   "cell_type": "code",
   "execution_count": 7,
   "id": "8090641c-f0e3-4e4d-b387-edbf09a7a828",
   "metadata": {},
   "outputs": [],
   "source": [
    "import sqlite3\n",
    "\n",
    "def read_db_to_adjacency_matrix(database_file):\n",
    "    persons = set()  # Store unique persons\n",
    "\n",
    "    # Connect to the SQLite database\n",
    "    conn = sqlite3.connect(database_file)\n",
    "    cursor = conn.cursor()\n",
    "\n",
    "    # Query the database to determine unique persons\n",
    "    cursor.execute(\"SELECT giver, receiver FROM debt_item\")\n",
    "    rows = cursor.fetchall()\n",
    "    for row in rows:\n",
    "        giver = row[0]\n",
    "        receiver = row[1]\n",
    "        persons.add(giver)\n",
    "        persons.add(receiver)\n",
    "\n",
    "    persons = sorted(persons)  # Sort persons alphabetically\n",
    "\n",
    "    n = len(persons)\n",
    "    adjacency_matrix = [[0] * n for _ in range(n)]\n",
    "\n",
    "    # Populate the adjacency matrix with transaction amounts\n",
    "    cursor.execute(\"SELECT giver, receiver, amount FROM debt_item\")\n",
    "    rows = cursor.fetchall()\n",
    "    for row in rows:\n",
    "        giver = row[0]\n",
    "        receiver = row[1]\n",
    "        amount = row[2]\n",
    "\n",
    "        i = persons.index(giver)\n",
    "        j = persons.index(receiver)\n",
    "        adjacency_matrix[i][j] += amount\n",
    "\n",
    "    # Close the database connection\n",
    "    conn.close()\n",
    "\n",
    "    return adjacency_matrix\n",
    "\n",
    "\n"
   ]
  },
  {
   "cell_type": "markdown",
   "id": "ea2cd321-1cd8-45db-abf8-e1e3fe79b450",
   "metadata": {},
   "source": [
    "## Just checking if the function above works properly. \n",
    "* The database is called through above function (to convert table to matrix) and intialized into a variable."
   ]
  },
  {
   "cell_type": "code",
   "execution_count": 8,
   "id": "1a320e5a-1a9d-4695-b536-969c993c9c33",
   "metadata": {},
   "outputs": [
    {
     "name": "stdout",
     "output_type": "stream",
     "text": [
      "[0, 5, 1]\n",
      "[0, 0, 5]\n",
      "[10, 0, 0]\n"
     ]
    }
   ],
   "source": [
    "# Example usage:\n",
    "graph1 = read_db_to_adjacency_matrix('site.db')\n",
    "for row in graph1:\n",
    "    print(row)\n",
    "\n"
   ]
  },
  {
   "cell_type": "markdown",
   "id": "07890843-466d-4c55-9bde-2cac6def6bd8",
   "metadata": {},
   "source": [
    "## Run the algorithm on the initialized matrix."
   ]
  },
  {
   "cell_type": "code",
   "execution_count": 9,
   "id": "e7c9a7ea-489f-428e-be72-6dabac734529",
   "metadata": {},
   "outputs": [
    {
     "name": "stdout",
     "output_type": "stream",
     "text": [
      "Charlie  pays 4 euros to Alice \n"
     ]
    }
   ],
   "source": [
    "S = Solution()\n",
    "S.minCashFlow(graph1)"
   ]
  },
  {
   "cell_type": "markdown",
   "id": "c71a3318-e4a0-45eb-9111-88972797e983",
   "metadata": {},
   "source": [
    "---\n",
    "<font color='red'> TO MAKE SURE THIS CODE WORKS PROPERLY IN THE SHARED REPO: From the existing db, please delete \"debtor_1, debtor_2, debtor_3\" accordingly. Make sure the db matches the columns that exist in falseusers and falsedata. This is because the function to read database and convert uses indices. </font>. \n",
    "---"
   ]
  },
  {
   "cell_type": "markdown",
   "id": "4bc04fe7-945a-44ce-b128-800c4416eba2",
   "metadata": {},
   "source": [
    "# Process"
   ]
  },
  {
   "cell_type": "markdown",
   "id": "ed231787-f407-4404-88c4-e3fcce86faf9",
   "metadata": {},
   "source": [
    "1) Have database with tables\n",
    "2) Pass the database `read_db_to_adjacency_matrix()`\n",
    "3) feed the matrix from step 2 into the algorithm's function"
   ]
  },
  {
   "cell_type": "markdown",
   "id": "9626ddf5-c9bf-41c3-98ca-c1a81a3d75ab",
   "metadata": {},
   "source": [
    "Database  $\\rightarrow$ `read_db_to_adjacency_matrix()`  $\\rightarrow$ Assign **matrix** to an object/variable \n",
    "\n",
    "Assign `Solution` class to an object/variable $\\rightarrow$  Run the algorithm with {solution object}`.minCashFlow`({matrix})"
   ]
  },
  {
   "cell_type": "code",
   "execution_count": null,
   "id": "46f136b6-b935-499e-981a-d6e3875963cd",
   "metadata": {},
   "outputs": [],
   "source": []
  }
 ],
 "metadata": {
  "kernelspec": {
   "display_name": "Python 3 (ipykernel)",
   "language": "python",
   "name": "python3"
  },
  "language_info": {
   "codemirror_mode": {
    "name": "ipython",
    "version": 3
   },
   "file_extension": ".py",
   "mimetype": "text/x-python",
   "name": "python",
   "nbconvert_exporter": "python",
   "pygments_lexer": "ipython3",
   "version": "3.11.8"
  }
 },
 "nbformat": 4,
 "nbformat_minor": 5
}
